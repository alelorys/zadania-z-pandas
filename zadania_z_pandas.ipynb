{
  "nbformat": 4,
  "nbformat_minor": 0,
  "metadata": {
    "colab": {
      "name": "zadania z pandas",
      "provenance": [],
      "authorship_tag": "ABX9TyOsl1OolYIdJbMG/4rVzZUr",
      "include_colab_link": true
    },
    "kernelspec": {
      "name": "python3",
      "display_name": "Python 3"
    },
    "language_info": {
      "name": "python"
    }
  },
  "cells": [
    {
      "cell_type": "markdown",
      "metadata": {
        "id": "view-in-github",
        "colab_type": "text"
      },
      "source": [
        "<a href=\"https://colab.research.google.com/github/alelorys/zadania-z-pandas/blob/main/zadania_z_pandas.ipynb\" target=\"_parent\"><img src=\"https://colab.research.google.com/assets/colab-badge.svg\" alt=\"Open In Colab\"/></a>"
      ]
    },
    {
      "cell_type": "code",
      "execution_count": 1,
      "metadata": {
        "id": "t7vnWRBgY3cx"
      },
      "outputs": [],
      "source": [
        "import pandas as pd"
      ]
    },
    {
      "cell_type": "markdown",
      "source": [
        "Ćwiczenie 1"
      ],
      "metadata": {
        "id": "K3y9GMLsY9KS"
      }
    },
    {
      "cell_type": "code",
      "source": [
        "stocks = ['PLW', 'CDR', '11B', 'TEN']"
      ],
      "metadata": {
        "id": "awIHWvzEY8aA"
      },
      "execution_count": 2,
      "outputs": []
    },
    {
      "cell_type": "code",
      "source": [
        "ser = pd.Series(data = stocks)"
      ],
      "metadata": {
        "id": "Q5UAS5wkZTp2"
      },
      "execution_count": 3,
      "outputs": []
    },
    {
      "cell_type": "code",
      "source": [
        "ser"
      ],
      "metadata": {
        "colab": {
          "base_uri": "https://localhost:8080/"
        },
        "id": "0p8QS4vKZhJy",
        "outputId": "aebe0d3c-54e5-45c3-a9fa-b47b7b2f7f63"
      },
      "execution_count": 4,
      "outputs": [
        {
          "output_type": "execute_result",
          "data": {
            "text/plain": [
              "0    PLW\n",
              "1    CDR\n",
              "2    11B\n",
              "3    TEN\n",
              "dtype: object"
            ]
          },
          "metadata": {},
          "execution_count": 4
        }
      ]
    },
    {
      "cell_type": "markdown",
      "source": [
        "Ćwiczenie 2\n"
      ],
      "metadata": {
        "id": "PKNj4_Oja25g"
      }
    },
    {
      "cell_type": "code",
      "source": [
        "stocks = {'PLW': 387.00, 'CDR': 339.5, 'TEN': 349.5, '11B': 391.0}\n",
        "\n",
        "quotations = pd.Series(data= stocks)\n",
        "\n",
        "print(quotations)"
      ],
      "metadata": {
        "colab": {
          "base_uri": "https://localhost:8080/"
        },
        "id": "uRQhZQOua57g",
        "outputId": "4dbfe2db-03f2-44eb-df66-65bb3c6798a4"
      },
      "execution_count": 5,
      "outputs": [
        {
          "output_type": "stream",
          "name": "stdout",
          "text": [
            "PLW    387.0\n",
            "CDR    339.5\n",
            "TEN    349.5\n",
            "11B    391.0\n",
            "dtype: float64\n"
          ]
        }
      ]
    },
    {
      "cell_type": "markdown",
      "source": [
        "Ćwiczenie 3"
      ],
      "metadata": {
        "id": "0Xw1GFSpbopi"
      }
    },
    {
      "cell_type": "code",
      "source": [
        "stocks = {'PLW': 387.00, 'CDR': 339.5, 'TEN': 349.5, '11B': 391.0}\n",
        "quotations = pd.Series(data=stocks)\n",
        "\n",
        "quotations = quotations.to_list()\n",
        "\n",
        "print(quotations)"
      ],
      "metadata": {
        "colab": {
          "base_uri": "https://localhost:8080/"
        },
        "id": "rIH1U31cbnl6",
        "outputId": "a4e8a7d6-6dbf-4f98-b09c-586ffd878115"
      },
      "execution_count": 6,
      "outputs": [
        {
          "output_type": "stream",
          "name": "stdout",
          "text": [
            "[387.0, 339.5, 349.5, 391.0]\n"
          ]
        }
      ]
    },
    {
      "cell_type": "markdown",
      "source": [
        "Ćwiczenie 4\n"
      ],
      "metadata": {
        "id": "8cgdGgGId9qx"
      }
    },
    {
      "cell_type": "code",
      "source": [
        "stocks = {'PLW': 387.00, 'CDR': 339.5, 'TEN': 349.5, '11B': 391.0}\n",
        "quotations = pd.Series(data=stocks)\n",
        "price = pd.DataFrame(quotations, columns = ['price'])\n",
        "print(price)"
      ],
      "metadata": {
        "colab": {
          "base_uri": "https://localhost:8080/"
        },
        "id": "Wsc-gHpod09q",
        "outputId": "48a44a47-c771-47d0-ff6c-bfad8d18416c"
      },
      "execution_count": 11,
      "outputs": [
        {
          "output_type": "stream",
          "name": "stdout",
          "text": [
            "     price\n",
            "PLW  387.0\n",
            "CDR  339.5\n",
            "TEN  349.5\n",
            "11B  391.0\n"
          ]
        }
      ]
    },
    {
      "cell_type": "markdown",
      "source": [
        "Ćwiczenie 5"
      ],
      "metadata": {
        "id": "MrYygZkSfYC5"
      }
    },
    {
      "cell_type": "code",
      "source": [
        "import numpy as np\n",
        "import pandas as pd\n",
        "\n",
        "count = [10.0, 20.0, 30.0, 40.0, 50.0, 60.0, 70.0, 80.0, 90.0]\n",
        "fl = pd.Series(data=count, index = np.arange(101,110))\n",
        "\n",
        "print(fl)"
      ],
      "metadata": {
        "colab": {
          "base_uri": "https://localhost:8080/"
        },
        "id": "XvcDsNdrfZ4I",
        "outputId": "35eb3661-f012-4c8c-ac66-709648dc0f0d"
      },
      "execution_count": 17,
      "outputs": [
        {
          "output_type": "stream",
          "name": "stdout",
          "text": [
            "101    10.0\n",
            "102    20.0\n",
            "103    30.0\n",
            "104    40.0\n",
            "105    50.0\n",
            "106    60.0\n",
            "107    70.0\n",
            "108    80.0\n",
            "109    90.0\n",
            "dtype: float64\n"
          ]
        }
      ]
    }
  ]
}