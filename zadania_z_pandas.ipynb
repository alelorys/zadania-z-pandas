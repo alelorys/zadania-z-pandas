{
  "nbformat": 4,
  "nbformat_minor": 0,
  "metadata": {
    "colab": {
      "name": "zadania z pandas",
      "provenance": [],
      "authorship_tag": "ABX9TyO6+AUteux5Dy6ibSVnl43T",
      "include_colab_link": true
    },
    "kernelspec": {
      "name": "python3",
      "display_name": "Python 3"
    },
    "language_info": {
      "name": "python"
    }
  },
  "cells": [
    {
      "cell_type": "markdown",
      "metadata": {
        "id": "view-in-github",
        "colab_type": "text"
      },
      "source": [
        "<a href=\"https://colab.research.google.com/github/alelorys/zadania-z-pandas/blob/main/zadania_z_pandas.ipynb\" target=\"_parent\"><img src=\"https://colab.research.google.com/assets/colab-badge.svg\" alt=\"Open In Colab\"/></a>"
      ]
    },
    {
      "cell_type": "code",
      "execution_count": null,
      "metadata": {
        "id": "t7vnWRBgY3cx"
      },
      "outputs": [],
      "source": [
        "import pandas as pd"
      ]
    },
    {
      "cell_type": "markdown",
      "source": [
        "Ćwiczenie 1"
      ],
      "metadata": {
        "id": "K3y9GMLsY9KS"
      }
    },
    {
      "cell_type": "code",
      "source": [
        "stocks = ['PLW', 'CDR', '11B', 'TEN']"
      ],
      "metadata": {
        "id": "awIHWvzEY8aA"
      },
      "execution_count": null,
      "outputs": []
    },
    {
      "cell_type": "code",
      "source": [
        "ser = pd.Series(data = stocks)"
      ],
      "metadata": {
        "id": "Q5UAS5wkZTp2"
      },
      "execution_count": null,
      "outputs": []
    },
    {
      "cell_type": "code",
      "source": [
        "ser"
      ],
      "metadata": {
        "colab": {
          "base_uri": "https://localhost:8080/"
        },
        "id": "0p8QS4vKZhJy",
        "outputId": "7e12bcbb-47ae-4145-cecc-81ae08c8a893"
      },
      "execution_count": null,
      "outputs": [
        {
          "output_type": "execute_result",
          "data": {
            "text/plain": [
              "0    PLW\n",
              "1    CDR\n",
              "2    11B\n",
              "3    TEN\n",
              "dtype: object"
            ]
          },
          "metadata": {},
          "execution_count": 6
        }
      ]
    },
    {
      "cell_type": "markdown",
      "source": [
        "Ćwiczenie 2\n"
      ],
      "metadata": {
        "id": "PKNj4_Oja25g"
      }
    },
    {
      "cell_type": "code",
      "source": [
        "stocks = {'PLW': 387.00, 'CDR': 339.5, 'TEN': 349.5, '11B': 391.0}\n",
        "\n",
        "quotations = pd.Series(data= stocks)\n",
        "\n",
        "print(quotations)"
      ],
      "metadata": {
        "colab": {
          "base_uri": "https://localhost:8080/"
        },
        "id": "uRQhZQOua57g",
        "outputId": "e9a14ecb-5811-4359-92d3-57dfac3c7e62"
      },
      "execution_count": null,
      "outputs": [
        {
          "output_type": "stream",
          "name": "stdout",
          "text": [
            "PLW    387.0\n",
            "CDR    339.5\n",
            "TEN    349.5\n",
            "11B    391.0\n",
            "dtype: float64\n"
          ]
        }
      ]
    },
    {
      "cell_type": "markdown",
      "source": [
        "Ćwiczenie 3"
      ],
      "metadata": {
        "id": "0Xw1GFSpbopi"
      }
    },
    {
      "cell_type": "code",
      "source": [
        "stocks = {'PLW': 387.00, 'CDR': 339.5, 'TEN': 349.5, '11B': 391.0}\n",
        "quotations = pd.Series(data=stocks)\n",
        "\n",
        "quotations = quotations.to_list()\n",
        "\n",
        "print(quotations)"
      ],
      "metadata": {
        "colab": {
          "base_uri": "https://localhost:8080/"
        },
        "id": "rIH1U31cbnl6",
        "outputId": "b9bd32cb-e2f9-46e0-d859-1885c5a39305"
      },
      "execution_count": null,
      "outputs": [
        {
          "output_type": "stream",
          "name": "stdout",
          "text": [
            "[387.0, 339.5, 349.5, 391.0]\n"
          ]
        }
      ]
    }
  ]
}